{
 "cells": [
  {
   "attachments": {},
   "cell_type": "markdown",
   "metadata": {},
   "source": [
    "### Importação de bibliotecas e sessão do pyspark:"
   ]
  },
  {
   "cell_type": "code",
   "execution_count": 51,
   "metadata": {},
   "outputs": [],
   "source": [
    "from pyspark.sql import SparkSession\n",
    "import pyspark.sql.functions as F\n",
    "from pyspark.sql.types import *\n",
    "import functools\n",
    "\n",
    "spark = SparkSession.builder.getOrCreate()"
   ]
  },
  {
   "attachments": {},
   "cell_type": "markdown",
   "metadata": {},
   "source": [
    "### Definindo schemas:"
   ]
  },
  {
   "cell_type": "code",
   "execution_count": 52,
   "metadata": {},
   "outputs": [
    {
     "name": "stdout",
     "output_type": "stream",
     "text": [
      "+---+--------------------+--------------------+-------------------+----------------+\n",
      "| Id|                Nome|               Email|      Data_cadastro|        Telefone|\n",
      "+---+--------------------+--------------------+-------------------+----------------+\n",
      "| 55|   Edmilson da silva|edmilson-da-silva...|2019-08-30 00:54:33|+55(22)2922-2626|\n",
      "| 78|Maxson Barros do ...|maxson-barros-do-...|2019-09-10 02:03:42|+55(22)2126-2529|\n",
      "| 61| Bruno cesar e silva|bruno-cesar-e-sil...|2019-08-30 01:05:21|+55(23)2528-2729|\n",
      "|106|Dernival passos d...|dernival-passos-d...|2019-09-27 02:40:14|+55(29)2927-2322|\n",
      "|107| José rubian de goes|jose-rubian-de-go...|2019-09-28 13:09:43|+55(22)2023-2620|\n",
      "|108|Angelica Dos Sant...|angelica-dos-sant...|2019-09-28 14:48:16|+55(20)2521-3030|\n",
      "|109|          Alanderson|alanderson_109@gm...|2019-09-29 00:15:12|+55(22)2323-2426|\n",
      "|142|      Silvio gabriel|silvio-gabriel_14...|2019-10-04 12:47:21|+55(22)3026-2123|\n",
      "|144|JOSÉ CARLOS DA SI...|jose-carlos-da-si...|2019-10-06 14:24:26|+55(21)2921-2127|\n",
      "|145|Dante Hugo Ayres ...|dante-hugo-ayres-...|2019-10-06 16:36:49|+55(20)2421-2129|\n",
      "|146|FELIPE EMANUEL DA...|felipe-emanuel-da...|2019-10-06 18:24:39|+55(25)2020-2820|\n",
      "| 88|Anderson albuquerque|anderson-albuquer...|2019-09-14 20:52:26|+55(29)2527-2125|\n",
      "|159|               Arena| arena_159@gmail.com|2019-10-31 18:56:40|+55(28)2127-2623|\n",
      "|150|                Jean|  jean_150@gmail.com|2019-10-13 20:50:27|+55(30)2028-2130|\n",
      "|248|              Daniel|daniel_248@gmail.com|2019-12-12 23:54:51|+55(22)2328-2725|\n",
      "|156|     Ronaldo Rabello|ronaldo-rabello_1...|2019-10-25 17:26:36|+55(25)3026-2124|\n",
      "|157|    Alexandre Santos|alexandre-santos_...|2019-10-26 16:48:48|+55(27)2825-2325|\n",
      "|160|Genival rufino ne...|genival-rufino-ne...|2019-10-31 20:13:50|+55(25)2225-2922|\n",
      "|152|             Bandeja|bandeja_152@gmail...|2019-10-16 13:03:12|+55(24)2727-2527|\n",
      "|153|DANTE HUGO BRANDA...|dante-hugo-branda...|2019-10-17 02:09:46|+55(30)2430-2227|\n",
      "+---+--------------------+--------------------+-------------------+----------------+\n",
      "only showing top 20 rows\n",
      "\n"
     ]
    }
   ],
   "source": [
    "schema = StructType() \\\n",
    "    .add('Id', IntegerType(),True) \\\n",
    "    .add('Nome', StringType(),True) \\\n",
    "    .add('Email', StringType(),True) \\\n",
    "    .add('Data_cadastro', TimestampType(),True) \\\n",
    "    .add('Telefone', StringType(),True)\n",
    "\n",
    "df_clients = spark.read.format('csv') \\\n",
    "    .option('inferSchema', True) \\\n",
    "    .schema(schema) \\\n",
    "    .load('./data/clients/', delimiter=';')\n",
    "\n",
    "df_clients.show()"
   ]
  },
  {
   "cell_type": "code",
   "execution_count": 53,
   "metadata": {},
   "outputs": [
    {
     "name": "stdout",
     "output_type": "stream",
     "text": [
      "+----+----------+------+-------------------+\n",
      "|  Id|Cliente_Id| Valor|           DataHora|\n",
      "+----+----------+------+-------------------+\n",
      "|null|      null|  null|               null|\n",
      "|8607|       910|  -2.0|2022-01-19 20:15:26|\n",
      "|8608|       910|  -2.0|2022-01-19 20:14:56|\n",
      "|8609|       910|  -2.0|2022-01-19 20:14:26|\n",
      "|8610|       910|  -2.0|2022-01-19 20:13:56|\n",
      "|8612|       910|  -2.0|2022-01-19 20:13:26|\n",
      "|8614|       910|  -2.0|2022-01-19 20:12:56|\n",
      "|8573|       671| -10.0|2022-01-13 15:21:25|\n",
      "|8574|       671| -10.0|2022-01-13 15:20:55|\n",
      "|8575|       671|  -5.0|2022-01-13 15:20:25|\n",
      "|8576|       671| -10.0|2022-01-13 15:19:55|\n",
      "|8577|       671|  -2.0|2022-01-13 15:19:25|\n",
      "|8580|       671| -10.0|2022-01-13 15:18:55|\n",
      "|8581|       671|-100.0|2022-01-13 15:18:25|\n",
      "|8582|       671| -15.0|2022-01-13 15:17:55|\n",
      "|8583|       671|-100.0|2022-01-13 15:17:25|\n",
      "|8584|       671|  -2.0|2022-01-13 15:16:55|\n",
      "|8579|       370|  -7.0|2022-01-13 03:44:57|\n",
      "|8578|       370|  -3.0|2022-01-13 03:37:43|\n",
      "|8572|       671|  -2.0|2022-01-12 19:43:20|\n",
      "+----+----------+------+-------------------+\n",
      "only showing top 20 rows\n",
      "\n"
     ]
    }
   ],
   "source": [
    "\n",
    "schema2 = StructType() \\\n",
    "    .add('Id', IntegerType(),True) \\\n",
    "    .add('Cliente_Id', IntegerType(),True) \\\n",
    "    .add('Valor', FloatType(),True) \\\n",
    "    .add('DataHora', TimestampType(),True)\n",
    "\n",
    "df_transaction_in = spark.read.format('csv') \\\n",
    "    .option('inferSchema', True) \\\n",
    "    .schema(schema2) \\\n",
    "    .load('./data/transaction/in/', delimiter=';')\n",
    "    \n",
    "df_transaction_out = spark.read.format('csv') \\\n",
    "    .option('inferSchema', True) \\\n",
    "    .schema(schema2) \\\n",
    "    .load('./data/transaction/out/', delimiter=';')\n",
    "\n",
    "df_transaction_out.withColumn('Valor', - df_transaction_out['Valor'])\n",
    "df_transaction_out.show()"
   ]
  },
  {
   "attachments": {},
   "cell_type": "markdown",
   "metadata": {},
   "source": [
    "### Unindo dataframes de transações:"
   ]
  },
  {
   "cell_type": "code",
   "execution_count": 54,
   "metadata": {},
   "outputs": [
    {
     "name": "stdout",
     "output_type": "stream",
     "text": [
      "+----+----------+-------+-------------------+\n",
      "|  Id|Cliente_Id|  Valor|           DataHora|\n",
      "+----+----------+-------+-------------------+\n",
      "|3120|       533|  5.001|2021-01-28 23:46:47|\n",
      "|3119|       533| 24.999|2021-01-28 23:46:47|\n",
      "|3108|       533|  5.001|2021-01-28 13:47:37|\n",
      "|3107|       533|12.4995|2021-01-28 13:47:36|\n",
      "|3106|       533|12.4995|2021-01-28 13:47:36|\n",
      "|3092|       533| 24.999|2021-01-28 13:02:57|\n",
      "|3091|       533|  5.001|2021-01-28 13:02:57|\n",
      "|3079|       533| 24.999|2021-01-23 12:44:31|\n",
      "|3078|       533|  5.001|2021-01-23 12:44:30|\n",
      "|3069|       574|   20.0|2021-01-23 00:29:52|\n",
      "|3066|        74|    7.8|2021-01-22 00:11:14|\n",
      "|3061|        74|   3.82|2021-01-20 23:05:16|\n",
      "|3060|         4|   5.58|2021-01-20 23:05:16|\n",
      "|3046|       370|   50.0|2021-01-20 19:07:00|\n",
      "|3030|       570|   20.0|2021-01-15 15:53:40|\n",
      "|3009|        74|  5.001|2021-01-14 11:04:03|\n",
      "|3008|        74|12.4995|2021-01-14 11:04:03|\n",
      "|3007|       533|12.4995|2021-01-14 11:04:03|\n",
      "|3000|       370|   50.0|2021-01-13 22:12:34|\n",
      "|2995|       570|   20.0|2021-01-13 14:22:24|\n",
      "+----+----------+-------+-------------------+\n",
      "only showing top 20 rows\n",
      "\n"
     ]
    }
   ],
   "source": [
    "def unionAll(dfs):\n",
    "    return functools.reduce(\n",
    "        lambda df_transaction_in, \n",
    "        df_transaction_out: \n",
    "            df_transaction_in.union(df_transaction_out.select(df_transaction_in.columns)), dfs)\n",
    "\n",
    "df_transaction = unionAll([df_transaction_in, df_transaction_out])\n",
    "df_transaction.show()"
   ]
  },
  {
   "attachments": {},
   "cell_type": "markdown",
   "metadata": {},
   "source": [
    "### Normalização dos dados:"
   ]
  },
  {
   "cell_type": "code",
   "execution_count": 55,
   "metadata": {},
   "outputs": [],
   "source": [
    "df_clients = df_clients.withColumn('Nome', F.lower(df_clients['Nome']))\n",
    "\n",
    "df_clients = df_clients.withColumn('Nome', F.trim(df_clients.Nome))\n",
    "\n",
    "df_clients = df_clients.na.drop('any')\n",
    "\n",
    "df_transaction = df_transaction.na.drop('all')"
   ]
  },
  {
   "attachments": {},
   "cell_type": "markdown",
   "metadata": {},
   "source": [
    "### Adicionando colunas:"
   ]
  },
  {
   "cell_type": "code",
   "execution_count": 61,
   "metadata": {},
   "outputs": [
    {
     "name": "stdout",
     "output_type": "stream",
     "text": [
      "+---+----+-----+-------------+--------+---+------------+\n",
      "| Id|Nome|Email|Data_cadastro|Telefone|DDD|Country_code|\n",
      "+---+----+-----+-------------+--------+---+------------+\n",
      "+---+----+-----+-------------+--------+---+------------+\n",
      "\n",
      "+---+--------------------+--------------------+-------------------+----------------+---+------------+\n",
      "| Id|                Nome|               Email|      Data_cadastro|        Telefone|DDD|Country_code|\n",
      "+---+--------------------+--------------------+-------------------+----------------+---+------------+\n",
      "| 55|   edmilson da silva|edmilson-da-silva...|2019-08-30 00:54:33|+55(22)2922-2626| 22|         +55|\n",
      "| 78|maxson barros do ...|maxson-barros-do-...|2019-09-10 02:03:42|+55(22)2126-2529| 22|         +55|\n",
      "| 61| bruno cesar e silva|bruno-cesar-e-sil...|2019-08-30 01:05:21|+55(23)2528-2729| 23|         +55|\n",
      "|106|dernival passos d...|dernival-passos-d...|2019-09-27 02:40:14|+55(29)2927-2322| 29|         +55|\n",
      "|107| josé rubian de goes|jose-rubian-de-go...|2019-09-28 13:09:43|+55(22)2023-2620| 22|         +55|\n",
      "|108|angelica dos sant...|angelica-dos-sant...|2019-09-28 14:48:16|+55(20)2521-3030| 20|         +55|\n",
      "|109|          alanderson|alanderson_109@gm...|2019-09-29 00:15:12|+55(22)2323-2426| 22|         +55|\n",
      "|142|      silvio gabriel|silvio-gabriel_14...|2019-10-04 12:47:21|+55(22)3026-2123| 22|         +55|\n",
      "|144|josé carlos da si...|jose-carlos-da-si...|2019-10-06 14:24:26|+55(21)2921-2127| 21|         +55|\n",
      "|145|dante hugo ayres ...|dante-hugo-ayres-...|2019-10-06 16:36:49|+55(20)2421-2129| 20|         +55|\n",
      "|146|felipe emanuel da...|felipe-emanuel-da...|2019-10-06 18:24:39|+55(25)2020-2820| 25|         +55|\n",
      "| 88|anderson albuquerque|anderson-albuquer...|2019-09-14 20:52:26|+55(29)2527-2125| 29|         +55|\n",
      "|159|               arena| arena_159@gmail.com|2019-10-31 18:56:40|+55(28)2127-2623| 28|         +55|\n",
      "|150|                jean|  jean_150@gmail.com|2019-10-13 20:50:27|+55(30)2028-2130| 30|         +55|\n",
      "|248|              daniel|daniel_248@gmail.com|2019-12-12 23:54:51|+55(22)2328-2725| 22|         +55|\n",
      "|156|     ronaldo rabello|ronaldo-rabello_1...|2019-10-25 17:26:36|+55(25)3026-2124| 25|         +55|\n",
      "|157|    alexandre santos|alexandre-santos_...|2019-10-26 16:48:48|+55(27)2825-2325| 27|         +55|\n",
      "|160|genival rufino ne...|genival-rufino-ne...|2019-10-31 20:13:50|+55(25)2225-2922| 25|         +55|\n",
      "|152|             bandeja|bandeja_152@gmail...|2019-10-16 13:03:12|+55(24)2727-2527| 24|         +55|\n",
      "|153|dante hugo branda...|dante-hugo-branda...|2019-10-17 02:09:46|+55(30)2430-2227| 30|         +55|\n",
      "+---+--------------------+--------------------+-------------------+----------------+---+------------+\n",
      "only showing top 20 rows\n",
      "\n",
      "404\n"
     ]
    }
   ],
   "source": [
    "df_clients.filter(F.length(F.col('Telefone')) < 16).show()\n",
    "\n",
    "df_clients = df_clients \\\n",
    "    .withColumn('DDD', F.substring('Telefone', 5, 2)) \\\n",
    "    .withColumn('Country_code', F.substring('Telefone', 1, 3))\n",
    "\n",
    "df_clients.show()\n",
    "print(df_clients.count())"
   ]
  },
  {
   "cell_type": "code",
   "execution_count": 56,
   "metadata": {},
   "outputs": [
    {
     "name": "stdout",
     "output_type": "stream",
     "text": [
      "+----+----------+-------+-------------------+----+------+-------+----------+\n",
      "|  Id|Cliente_Id|  Valor|           DataHora|Hora|Minuto|Segundo|       Dia|\n",
      "+----+----------+-------+-------------------+----+------+-------+----------+\n",
      "|3120|       533|  5.001|2021-01-28 23:46:47|  23|    46|     47|2021-01-28|\n",
      "|3119|       533| 24.999|2021-01-28 23:46:47|  23|    46|     47|2021-01-28|\n",
      "|3108|       533|  5.001|2021-01-28 13:47:37|  13|    47|     37|2021-01-28|\n",
      "|3107|       533|12.4995|2021-01-28 13:47:36|  13|    47|     36|2021-01-28|\n",
      "|3106|       533|12.4995|2021-01-28 13:47:36|  13|    47|     36|2021-01-28|\n",
      "|3092|       533| 24.999|2021-01-28 13:02:57|  13|     2|     57|2021-01-28|\n",
      "|3091|       533|  5.001|2021-01-28 13:02:57|  13|     2|     57|2021-01-28|\n",
      "|3079|       533| 24.999|2021-01-23 12:44:31|  12|    44|     31|2021-01-23|\n",
      "|3078|       533|  5.001|2021-01-23 12:44:30|  12|    44|     30|2021-01-23|\n",
      "|3069|       574|   20.0|2021-01-23 00:29:52|   0|    29|     52|2021-01-23|\n",
      "|3066|        74|    7.8|2021-01-22 00:11:14|   0|    11|     14|2021-01-22|\n",
      "|3061|        74|   3.82|2021-01-20 23:05:16|  23|     5|     16|2021-01-20|\n",
      "|3060|         4|   5.58|2021-01-20 23:05:16|  23|     5|     16|2021-01-20|\n",
      "|3046|       370|   50.0|2021-01-20 19:07:00|  19|     7|      0|2021-01-20|\n",
      "|3030|       570|   20.0|2021-01-15 15:53:40|  15|    53|     40|2021-01-15|\n",
      "|3009|        74|  5.001|2021-01-14 11:04:03|  11|     4|      3|2021-01-14|\n",
      "|3008|        74|12.4995|2021-01-14 11:04:03|  11|     4|      3|2021-01-14|\n",
      "|3007|       533|12.4995|2021-01-14 11:04:03|  11|     4|      3|2021-01-14|\n",
      "|3000|       370|   50.0|2021-01-13 22:12:34|  22|    12|     34|2021-01-13|\n",
      "|2995|       570|   20.0|2021-01-13 14:22:24|  14|    22|     24|2021-01-13|\n",
      "+----+----------+-------+-------------------+----+------+-------+----------+\n",
      "only showing top 20 rows\n",
      "\n",
      "7272\n"
     ]
    }
   ],
   "source": [
    "df_transaction = df_transaction \\\n",
    "    .withColumn('Hora', F.hour(F.col('DataHora'))) \\\n",
    "    .withColumn('Minuto', F.minute(F.col('DataHora'))) \\\n",
    "    .withColumn('Segundo', F.second(F.col('DataHora'))) \\\n",
    "    .withColumn('Dia', F.to_date(F.col('DataHora'))) \\\n",
    "\n",
    "df_transaction.show()\n",
    "print(df_transaction.count())"
   ]
  },
  {
   "attachments": {},
   "cell_type": "markdown",
   "metadata": {},
   "source": [
    "### Criar csv com dados tratados:"
   ]
  },
  {
   "cell_type": "code",
   "execution_count": 58,
   "metadata": {},
   "outputs": [],
   "source": [
    "df_clients.coalesce(1).write.option('header','true') \\\n",
    "    .mode('overwrite') \\\n",
    "    .csv('./data/clients/clients_clean')"
   ]
  },
  {
   "cell_type": "code",
   "execution_count": 59,
   "metadata": {},
   "outputs": [],
   "source": [
    "df_transaction.coalesce(1).write.option('header','true') \\\n",
    "    .mode('overwrite') \\\n",
    "    .csv('./data/transaction/transaction_clean')"
   ]
  },
  {
   "attachments": {},
   "cell_type": "markdown",
   "metadata": {},
   "source": [
    "### Tentativa de popular tabelas no SQL server via pyspark (não encontrei o driver): "
   ]
  },
  {
   "cell_type": "code",
   "execution_count": 60,
   "metadata": {},
   "outputs": [],
   "source": [
    "# import os\n",
    "\n",
    "# server = os.environ['SERVER']\n",
    "# database = os.environ['DATABASE']\n",
    "# username = os.environ['USERNAME']\n",
    "# password = os.environ['PASSWORD']\n",
    "\n",
    "# df_clients.write \\\n",
    "#   .format(\"com.microsoft.sqlserver.jdbc.spark\") \\\n",
    "#   .mode(\"append\") \\\n",
    "#   .option(\"url\", \"jdbc:sqlserver://anti-fraude.database.windows.net:1433;databaseName=Anti_fraude_s_a;\") \\\n",
    "#   .option(\"dbtable\", \"clientes\") \\\n",
    "#   .option(\"user\", username) \\\n",
    "#   .option(\"password\", password) \\\n",
    "#   .option(\"encrypt\", True) \\\n",
    "#   .option(\"trustServerCertificate\", False) \\\n",
    "#   .option(\"hostNameInCertificate\", '*database.windows.net') \\\n",
    "#   .option(\"loginTimeout\", 30) \\\n",
    "#   .save()"
   ]
  }
 ],
 "metadata": {
  "kernelspec": {
   "display_name": "Python 3 (ipykernel)",
   "language": "python",
   "name": "python3"
  },
  "language_info": {
   "codemirror_mode": {
    "name": "ipython",
    "version": 3
   },
   "file_extension": ".py",
   "mimetype": "text/x-python",
   "name": "python",
   "nbconvert_exporter": "python",
   "pygments_lexer": "ipython3",
   "version": "3.10.9"
  },
  "orig_nbformat": 4,
  "vscode": {
   "interpreter": {
    "hash": "50c2d20383134e315f3c8f7279e89f10e9ffbad1cf5063fc5b9085ee4d294136"
   }
  }
 },
 "nbformat": 4,
 "nbformat_minor": 2
}
