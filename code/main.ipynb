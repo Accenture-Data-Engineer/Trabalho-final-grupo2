{
 "cells": [
  {
   "attachments": {},
   "cell_type": "markdown",
   "metadata": {},
   "source": [
    "### Importação de bibliotecas e sessão do pyspark:"
   ]
  },
  {
   "cell_type": "code",
   "execution_count": null,
   "metadata": {},
   "outputs": [],
   "source": [
    "from pyspark.sql import SparkSession\n",
    "import pyspark.sql.functions as F\n",
    "from pyspark.sql.types import *\n",
    "from pyspark.sql.window import Window\n",
    "import pandas as pd\n",
    "import functools\n",
    "\n",
    "\n",
    "spark = SparkSession.builder.getOrCreate()\n"
   ]
  },
  {
   "attachments": {},
   "cell_type": "markdown",
   "metadata": {},
   "source": [
    "### Definindo schemas:"
   ]
  },
  {
   "cell_type": "code",
   "execution_count": null,
   "metadata": {},
   "outputs": [],
   "source": [
    "schema = StructType() \\\n",
    "    .add('Id', IntegerType(),True) \\\n",
    "    .add('Nome', StringType(),True) \\\n",
    "    .add('Email', StringType(),True) \\\n",
    "    .add('Data_cadastro', TimestampType(),True) \\\n",
    "    .add('Telefone', StringType(),True)\n",
    "\n",
    "df_clients = spark.read.format('csv') \\\n",
    "    .option('header', True) \\\n",
    "    .schema(schema) \\\n",
    "    .load('./data/clients/', delimiter=';')\n",
    "\n",
    "\n",
    "df_clients.show()\n",
    "\n",
    "df_clients.take(30)\n"
   ]
  },
  {
   "cell_type": "code",
   "execution_count": null,
   "metadata": {},
   "outputs": [],
   "source": [
    "schema2 = StructType() \\\n",
    "    .add('Id', IntegerType(),True) \\\n",
    "    .add('Cliente_id', IntegerType(),True) \\\n",
    "    .add('Valor', FloatType(),True) \\\n",
    "    .add('Datahora', TimestampType(),True)\n",
    "\n",
    "df_transaction_in = spark.read.format('csv') \\\n",
    "    .option('header', True) \\\n",
    "    .schema(schema2) \\\n",
    "    .load('./data/transaction/in/', delimiter=';')\n",
    "    \n",
    "df_transaction_out = spark.read.format('csv') \\\n",
    "    .option('header', True) \\\n",
    "    .schema(schema2) \\\n",
    "    .load('./data/transaction/out/', delimiter=';')\n",
    "\n",
    "df_transaction_out.withColumn('valor', - df_transaction_out['valor'])"
   ]
  },
  {
   "attachments": {},
   "cell_type": "markdown",
   "metadata": {},
   "source": [
    "### Unindo dataframes de transações:"
   ]
  },
  {
   "cell_type": "code",
   "execution_count": null,
   "metadata": {},
   "outputs": [],
   "source": [
    "def unionAll(dfs):\n",
    "    return functools.reduce(\n",
    "        lambda df_transaction_in, \n",
    "        df_transaction_out: \n",
    "            df_transaction_in.union(df_transaction_out.select(df_transaction_in.columns)), dfs)\n",
    "\n",
    "\n",
    "df_transaction = unionAll([df_transaction_in, df_transaction_out])\n",
    "df_transaction.show()"
   ]
  },
  {
   "attachments": {},
   "cell_type": "markdown",
   "metadata": {},
   "source": [
    "### Normalização dos dados:"
   ]
  },
  {
   "cell_type": "code",
   "execution_count": null,
   "metadata": {},
   "outputs": [],
   "source": [
    "df_clients = df_clients.withColumn('Nome', lower(df_clients['Nome']))\n",
    "\n",
    "df_clients = df_clients.withColumn('Nome', F.trim(df_clients.Nome))\n",
    "\n",
    "df_clients.show(100)"
   ]
  },
  {
   "attachments": {},
   "cell_type": "markdown",
   "metadata": {},
   "source": [
    "### Adicionando colunas:"
   ]
  },
  {
   "cell_type": "code",
   "execution_count": null,
   "metadata": {},
   "outputs": [],
   "source": [
    "df_clients.filter(F.length(col('telefone')) < 16).show()\n",
    "\n",
    "df_clients = df_clients \\\n",
    "    .withColumn('DDD', F.substring('telefone', 5, 2)) \\\n",
    "    .withColumn('Country_code', F.substring('telefone', 1, 3))\n",
    "\n",
    "\n",
    "df_clients.show()"
   ]
  },
  {
   "cell_type": "code",
   "execution_count": null,
   "metadata": {},
   "outputs": [],
   "source": [
    "\n",
    "df_transaction = df_transaction \\\n",
    "    .withColumn('hora', F.hour(col('timeStamp'))) \\\n",
    "    .withColumn('minuto', F.minute(col('timeStamp'))) \\\n",
    "    .withColumn('segundo', F.second(col('timeStamp'))) \\\n",
    "    .withColumn('dia', F.to_date(col('timeStamp'))) \\\n",
    "    \n",
    "\n",
    "df_transaction.show()"
   ]
  },
  {
   "attachments": {},
   "cell_type": "markdown",
   "metadata": {},
   "source": [
    "### Criar csv com dados tratados:"
   ]
  },
  {
   "cell_type": "code",
   "execution_count": null,
   "metadata": {},
   "outputs": [],
   "source": [
    "# df_clients.coalesce(1).write.csv('./data/clients/clients_clean')\n",
    "df = pd.concat(df_clients)\n",
    "print(df)"
   ]
  },
  {
   "cell_type": "code",
   "execution_count": null,
   "metadata": {},
   "outputs": [],
   "source": [
    "df_transaction.coalesce(1).write.csv('./data/transaction/transaction_clean')"
   ]
  },
  {
   "attachments": {},
   "cell_type": "markdown",
   "metadata": {},
   "source": [
    "### Conexão com SQL server:"
   ]
  },
  {
   "cell_type": "code",
   "execution_count": null,
   "metadata": {},
   "outputs": [],
   "source": [
    "import os\n",
    "from dotenv import load_dotenv\n",
    "import pyodbc\n",
    "import pandas as pd\n",
    "\n",
    "load_dotenv()\n",
    "\n",
    "server = os.environ['SERVER']\n",
    "database = os.environ['DATABASE']\n",
    "username = os.environ['USERNAME']\n",
    "password = os.environ['PASSWORD']\n",
    "\n",
    "cnxn = pyodbc.connect('DRIVER={ODBC Driver 18 for SQL Server};SERVER='+server+';DATABASE='+database+';ENCRYPT=yes;UID='+username+';PWD='+ password)\n",
    "cursor = cnxn.cursor()\n",
    "\n",
    "\n",
    "\n",
    "# Definir uma função para inserir uma pessoa na tabela do SQL Server\n",
    "def inserir_pessoa(pessoa):\n",
    "    cursor.execute(\"INSERT INTO pessoas (nome, idade) VALUES (?, ?)\", pessoa.Nome, pessoa.Idade)\n",
    "    cursor.commit()\n",
    "\n",
    "# Aplicar a função em cada linha do DataFrame usando foreach()\n",
    "df.foreach(lambda row: inserir_pessoa(row))"
   ]
  },
  {
   "cell_type": "code",
   "execution_count": null,
   "metadata": {},
   "outputs": [],
   "source": []
  }
 ],
 "metadata": {
  "kernelspec": {
   "display_name": "Python 3 (ipykernel)",
   "language": "python",
   "name": "python3"
  },
  "language_info": {
   "name": "python",
   "version": "3.9.5"
  },
  "orig_nbformat": 4,
  "vscode": {
   "interpreter": {
    "hash": "50c2d20383134e315f3c8f7279e89f10e9ffbad1cf5063fc5b9085ee4d294136"
   }
  }
 },
 "nbformat": 4,
 "nbformat_minor": 2
}
